{
 "cells": [
  {
   "cell_type": "code",
   "execution_count": 1,
   "id": "2d570418",
   "metadata": {},
   "outputs": [
    {
     "name": "stdout",
     "output_type": "stream",
     "text": [
      "10619.66425791805\n"
     ]
    }
   ],
   "source": [
    "import numpy as np\n",
    "\n",
    "# z_a 99.99% = 3.719\n",
    "def trace_estimate(corr_k_t, z_a=3.719):\n",
    "    temp = np.log((1 + corr_k_t) / (1 - corr_k_t))\n",
    "    temp = temp ** 2\n",
    "    n = 3 + 8 * (z_a ** 2 / temp)\n",
    "    return n\n",
    "\n",
    "corr_k_t = 0.05100\n",
    "\n",
    "print(trace_estimate(corr_k_t=corr_k_t))\n"
   ]
  },
  {
   "cell_type": "code",
   "execution_count": null,
   "id": "759449d6",
   "metadata": {},
   "outputs": [],
   "source": []
  }
 ],
 "metadata": {
  "kernelspec": {
   "display_name": "Python (tensorflow_env)",
   "language": "python",
   "name": "tensorflow_env"
  },
  "language_info": {
   "codemirror_mode": {
    "name": "ipython",
    "version": 3
   },
   "file_extension": ".py",
   "mimetype": "text/x-python",
   "name": "python",
   "nbconvert_exporter": "python",
   "pygments_lexer": "ipython3",
   "version": "3.9.19"
  }
 },
 "nbformat": 4,
 "nbformat_minor": 5
}
